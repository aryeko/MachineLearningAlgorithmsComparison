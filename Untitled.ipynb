{
 "cells": [
  {
   "cell_type": "code",
   "execution_count": 65,
   "metadata": {},
   "outputs": [
    {
     "name": "stdout",
     "output_type": "stream",
     "text": [
      "Reading the data from the xls file\n"
     ]
    }
   ],
   "source": [
    "import numpy as np\n",
    "import pandas as pd\n",
    "import time\n",
    "import pylab as pl\n",
    "from mpl_toolkits.mplot3d import Axes3D\n",
    "from sklearn import svm\n",
    "from sklearn.neural_network import MLPClassifier\n",
    "from sklearn.decomposition import PCA\n",
    "\n",
    "trainDataFilePath = \"ExcerciseData\\\\real_project_data.xls\";\n",
    "# Read the data\n",
    "print(\"Reading the data from the xls file\")\n",
    "\n",
    "xl = pd.ExcelFile(trainDataFilePath)"
   ]
  },
  {
   "cell_type": "code",
   "execution_count": 66,
   "metadata": {},
   "outputs": [
    {
     "data": {
      "text/plain": [
       "['Sheet1', 'Sheet2', 'Sheet3']"
      ]
     },
     "execution_count": 66,
     "metadata": {},
     "output_type": "execute_result"
    }
   ],
   "source": [
    "xl.sheet_names"
   ]
  },
  {
   "cell_type": "code",
   "execution_count": 67,
   "metadata": {},
   "outputs": [],
   "source": [
    "parsed = xl.parse(\"Sheet1\")"
   ]
  },
  {
   "cell_type": "code",
   "execution_count": 68,
   "metadata": {},
   "outputs": [
    {
     "data": {
      "text/plain": [
       "pandas.core.frame.DataFrame"
      ]
     },
     "execution_count": 68,
     "metadata": {},
     "output_type": "execute_result"
    }
   ],
   "source": [
    "type(parsed)"
   ]
  },
  {
   "cell_type": "code",
   "execution_count": 69,
   "metadata": {
    "collapsed": true
   },
   "outputs": [],
   "source": [
    "data = np.array(parsed)"
   ]
  },
  {
   "cell_type": "code",
   "execution_count": 70,
   "metadata": {},
   "outputs": [
    {
     "data": {
      "text/plain": [
       "(399, 21)"
      ]
     },
     "execution_count": 70,
     "metadata": {},
     "output_type": "execute_result"
    }
   ],
   "source": [
    "data.shape"
   ]
  },
  {
   "cell_type": "code",
   "execution_count": 71,
   "metadata": {},
   "outputs": [],
   "source": [
    "\n",
    "rows, cols = data.shape\n",
    "\n",
    "# Classification is in the last column\n",
    "Y = data[:, cols - 1]\n",
    "X = data[:, :cols - 1]\n"
   ]
  },
  {
   "cell_type": "code",
   "execution_count": 72,
   "metadata": {},
   "outputs": [
    {
     "name": "stdout",
     "output_type": "stream",
     "text": [
      "Selecting random indexes for train and test\n",
      "Got 172 samples classified as 'M', an 227 samples classified as 'B'\n"
     ]
    }
   ],
   "source": [
    "print(\"Selecting random indexes for train and test\")\n",
    "nonzero_y_indexes = np.where(Y == 'M')[0]\n",
    "zero_y_indexes = np.where(Y == 'B')[0]\n",
    "\n",
    "print(\"Got %d samples classified as 'M', an %d samples classified as 'B'\" % (len(nonzero_y_indexes), len(zero_y_indexes)))\n",
    "\n",
    "assert(len(nonzero_y_indexes) + len(zero_y_indexes) == len(Y))"
   ]
  },
  {
   "cell_type": "code",
   "execution_count": 73,
   "metadata": {},
   "outputs": [
    {
     "name": "stdout",
     "output_type": "stream",
     "text": [
      "Training on 344 samples, testing on 300 new samples\n"
     ]
    }
   ],
   "source": [
    "# get N random 'B' classified samples indexes while N is the length of the 'M' classified samples (to make the amount of 'B' samples equal to the amount of the 'M' samples)\n",
    "random_x_train_indexes = np.random.choice(zero_y_indexes, len(nonzero_y_indexes))\n",
    "\n",
    "train_indexes = np.append(random_x_train_indexes, nonzero_y_indexes)\n",
    "x_train = X[train_indexes, :]\n",
    "y_train = Y[train_indexes]\n",
    "\n",
    "number_of_test_indexes = 300\n",
    "test_indexes = np.random.choice(range(rows), number_of_test_indexes)\n",
    "x_test, y_test = X[test_indexes, :], Y[test_indexes]\n",
    "print(\"Training on %d samples, testing on %d new samples\" % (len(train_indexes), number_of_test_indexes))\n",
    "\n"
   ]
  },
  {
   "cell_type": "code",
   "execution_count": 74,
   "metadata": {},
   "outputs": [
    {
     "name": "stdout",
     "output_type": "stream",
     "text": [
      "0.44\n"
     ]
    }
   ],
   "source": [
    "print(Running neural network algorithm)\n",
    "mlp = MLPClassifier(hidden_layer_sizes=10, solver=\"sgd\", max_iter=1000)\n",
    "\n",
    "mlp.fit(x_train, y_train)\n",
    "\n",
    "y_predict = mlp.predict(x_train)\n",
    "\n",
    "print (mlp.score(x_test, y_test))"
   ]
  },
  {
   "cell_type": "code",
   "execution_count": null,
   "metadata": {
    "collapsed": true
   },
   "outputs": [],
   "source": [
    "# Plot the data on 3d in order to visualize how it's distributes\n",
    "draw_data_3d(X, Y)"
   ]
  }
 ],
 "metadata": {
  "kernelspec": {
   "display_name": "Python 3",
   "language": "python",
   "name": "python3"
  },
  "language_info": {
   "codemirror_mode": {
    "name": "ipython",
    "version": 3
   },
   "file_extension": ".py",
   "mimetype": "text/x-python",
   "name": "python",
   "nbconvert_exporter": "python",
   "pygments_lexer": "ipython3",
   "version": "3.6.1"
  }
 },
 "nbformat": 4,
 "nbformat_minor": 2
}
